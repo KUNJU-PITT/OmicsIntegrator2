{
 "cells": [
  {
   "cell_type": "code",
   "execution_count": null,
   "metadata": {
    "collapsed": false,
    "deletable": true,
    "editable": true,
    "scrolled": true
   },
   "outputs": [],
   "source": [
    "%matplotlib inline\n",
    "\n",
    "import numpy as np\n",
    "import pandas as pd\n",
    "import networkx as nx\n",
    "from forest import *\n",
    "\n",
    "interactome_file = \"/Users/alex/Documents/OmicsIntegrator2/data/iref13.tsv\"\n",
    "prize_file = \"/Users/alex/Documents/OmicsIntegrator2/data/prizes.tsv\"\n",
    "graph = Graph(interactome_file, {})\n",
    "\n",
    "prizes, terminals = graph.prepare_prizes(prize_file)\n"
   ]
  },
  {
   "cell_type": "code",
   "execution_count": 11,
   "metadata": {
    "collapsed": false,
    "deletable": true,
    "editable": true,
    "scrolled": true
   },
   "outputs": [
    {
     "data": {
      "text/plain": [
       "[671,\n",
       " 703,\n",
       " 1399,\n",
       " 1566,\n",
       " 1592,\n",
       " 1639,\n",
       " 1694,\n",
       " 1737,\n",
       " 1796,\n",
       " 1817,\n",
       " 3170,\n",
       " 3211,\n",
       " 3342,\n",
       " 3343,\n",
       " 3548,\n",
       " 3809,\n",
       " 4139,\n",
       " 4356,\n",
       " 4694,\n",
       " 5073,\n",
       " 5163,\n",
       " 6416,\n",
       " 6684,\n",
       " 6790,\n",
       " 6947,\n",
       " 7114,\n",
       " 7171,\n",
       " 7349,\n",
       " 8796,\n",
       " 8987,\n",
       " 9699,\n",
       " 9720,\n",
       " 9776,\n",
       " 9909,\n",
       " 10194,\n",
       " 10439,\n",
       " 10711,\n",
       " 10719,\n",
       " 10746,\n",
       " 11272,\n",
       " 11275,\n",
       " 12195,\n",
       " 12617,\n",
       " 12683,\n",
       " 12859,\n",
       " 13074,\n",
       " 13173,\n",
       " 13228,\n",
       " 13329]"
      ]
     },
     "execution_count": 11,
     "metadata": {},
     "output_type": "execute_result"
    }
   ],
   "source": [
    "terminals"
   ]
  },
  {
   "cell_type": "code",
   "execution_count": 12,
   "metadata": {
    "collapsed": false,
    "deletable": true,
    "editable": true
   },
   "outputs": [],
   "source": [
    "vertices, edges = graph.pcsf(prizes)"
   ]
  },
  {
   "cell_type": "code",
   "execution_count": 13,
   "metadata": {
    "collapsed": false,
    "deletable": true,
    "editable": true
   },
   "outputs": [
    {
     "data": {
      "text/plain": [
       "array([   44,   154,   523,   596,   671,   703,  1016,  1024,  1592,\n",
       "        1639,  1694,  1737,  1796,  1817,  2467,  3057,  3170,  3211,\n",
       "        3342,  3343,  3548,  3809,  3821,  3850,  4139,  4334,  4519,\n",
       "        4694,  5073,  5163,  5167,  6416,  6449,  6607,  6684,  6790,\n",
       "        6947,  7114,  7143,  7349,  8240,  8543,  8591,  8796,  8987,\n",
       "        9699,  9720,  9776,  9865,  9909, 10194, 10342, 10371, 10439,\n",
       "       10711, 10719, 10746, 11272, 11275, 11414, 12195, 12347, 12515,\n",
       "       12610, 12617, 12683, 12859, 12964, 13074, 13173, 13228, 13329, 17457], dtype=int32)"
      ]
     },
     "execution_count": 13,
     "metadata": {},
     "output_type": "execute_result"
    }
   ],
   "source": [
    "vertices"
   ]
  },
  {
   "cell_type": "code",
   "execution_count": 14,
   "metadata": {
    "collapsed": false,
    "deletable": true,
    "editable": true
   },
   "outputs": [
    {
     "data": {
      "text/plain": [
       "array([ 33956,  62314,  74480, 158205, 124123, 158192,  60319,  62302,\n",
       "        62312,  35767,  62359,  16732,  17222,  13508,  46751,  91128,\n",
       "        46770, 164489,  46786,  46673, 170843, 145905, 142077,   4674,\n",
       "       158190, 117287,  56393,  46759,  46643,  64685, 158220,   1013,\n",
       "        14938,   4595,  23424,  56412,  46716,   1040,  14976,  56391,\n",
       "        69068,  93510,  32017,  93327,  80669,  80639,  69692,  69717,\n",
       "        32056, 114714, 158149, 158131, 158825, 157875,  34784,  17569,\n",
       "       163641,  23304,  23299, 179284,  64520, 129631, 159397, 145487,\n",
       "        76991,  62315,  77001,  13489,   4739, 164108, 163980, 181529], dtype=int32)"
      ]
     },
     "execution_count": 14,
     "metadata": {},
     "output_type": "execute_result"
    }
   ],
   "source": [
    "edges"
   ]
  },
  {
   "cell_type": "code",
   "execution_count": 15,
   "metadata": {
    "collapsed": false,
    "deletable": true,
    "editable": true
   },
   "outputs": [
    {
     "data": {
      "text/plain": [
       "<networkx.classes.graph.Graph at 0x114a66710>"
      ]
     },
     "execution_count": 15,
     "metadata": {},
     "output_type": "execute_result"
    }
   ],
   "source": [
    "forest, augmented_forest = graph.output_forest_as_networkx(vertices, edges)\n",
    "forest"
   ]
  },
  {
   "cell_type": "code",
   "execution_count": 16,
   "metadata": {
    "collapsed": false,
    "deletable": true,
    "editable": true
   },
   "outputs": [
    {
     "name": "stderr",
     "output_type": "stream",
     "text": [
      "/Users/alex/Documents/GarNet2/venv/lib/python3.6/site-packages/networkx/drawing/nx_pylab.py:126: MatplotlibDeprecationWarning: pyplot.hold is deprecated.\n",
      "    Future behavior will be consistent with the long-time default:\n",
      "    plot commands add elements without first clearing the\n",
      "    Axes and/or Figure.\n",
      "  b = plt.ishold()\n",
      "/Users/alex/Documents/GarNet2/venv/lib/python3.6/site-packages/networkx/drawing/nx_pylab.py:138: MatplotlibDeprecationWarning: pyplot.hold is deprecated.\n",
      "    Future behavior will be consistent with the long-time default:\n",
      "    plot commands add elements without first clearing the\n",
      "    Axes and/or Figure.\n",
      "  plt.hold(b)\n",
      "/Users/alex/Documents/GarNet2/venv/lib/python3.6/site-packages/matplotlib/__init__.py:917: UserWarning: axes.hold is deprecated. Please remove it from your matplotlibrc and/or style files.\n",
      "  warnings.warn(self.msg_depr_set % key)\n",
      "/Users/alex/Documents/GarNet2/venv/lib/python3.6/site-packages/matplotlib/rcsetup.py:152: UserWarning: axes.hold is deprecated, will be removed in 3.0\n",
      "  warnings.warn(\"axes.hold is deprecated, will be removed in 3.0\")\n"
     ]
    },
    {
     "data": {
      "image/png": "[encoded data removed]",
      "text/plain": [
       "<matplotlib.figure.Figure at 0x118d19eb8>"
      ]
     },
     "metadata": {},
     "output_type": "display_data"
    }
   ],
   "source": [
    "nx.draw(forest)"
   ]
  },
  {
   "cell_type": "code",
   "execution_count": null,
   "metadata": {
    "collapsed": true,
    "deletable": true,
    "editable": true
   },
   "outputs": [],
   "source": []
  }
 ],
 "metadata": {
  "kernelspec": {
   "display_name": "Python 3",
   "language": "python",
   "name": "python3"
  },
  "language_info": {
   "codemirror_mode": {
    "name": "ipython",
    "version": 3
   },
   "file_extension": ".py",
   "mimetype": "text/x-python",
   "name": "python",
   "nbconvert_exporter": "python",
   "pygments_lexer": "ipython3",
   "version": "3.6.0"
  }
 },
 "nbformat": 4,
 "nbformat_minor": 2
}

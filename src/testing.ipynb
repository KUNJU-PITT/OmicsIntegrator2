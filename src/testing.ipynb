{
 "cells": [
  {
   "cell_type": "code",
   "execution_count": 1,
   "metadata": {
    "collapsed": false,
    "deletable": true,
    "editable": true
   },
   "outputs": [
    {
     "name": "stderr",
     "output_type": "stream",
     "text": [
      "06:48:20 - Forest: INFO - Members of the prize file not present in the interactome:\n",
      "06:48:20 - Forest: INFO -         name  prize\n",
      "-1  KIAA1543   0.64\n",
      "-1      PKM2   0.28\n",
      "-1     PLEC1   1.35\n",
      "-1     SFRS1   0.67\n"
     ]
    }
   ],
   "source": [
    "%matplotlib inline\n",
    "import matplotlib.pyplot as plt\n",
    "import numpy as np\n",
    "import pandas as pd\n",
    "import networkx as nx\n",
    "from graph import *\n",
    "\n",
    "interactome_file = \"/Users/alex/Documents/OmicsIntegrator2/data/inbiomap_exp.normalized.cleaned.tsv\"\n",
    "prize_file = \"/Users/alex/Documents/OmicsIntegrator2/data/prizes.tsv\"\n",
    "graph = Graph(interactome_file, {})\n",
    "\n",
    "prizes, terminals = graph.prepare_prizes(prize_file)\n"
   ]
  },
  {
   "cell_type": "code",
   "execution_count": 2,
   "metadata": {
    "collapsed": false,
    "deletable": true,
    "editable": true
   },
   "outputs": [
    {
     "data": {
      "text/plain": [
       "array([ 0.58301013,  0.84500387,  0.86235117, ...,  0.80786744,\n",
       "        0.60301564,  0.84406162])"
      ]
     },
     "execution_count": 2,
     "metadata": {},
     "output_type": "execute_result"
    }
   ],
   "source": [
    "graph.costs"
   ]
  },
  {
   "cell_type": "code",
   "execution_count": 3,
   "metadata": {
    "collapsed": false,
    "deletable": true,
    "editable": true,
    "scrolled": true
   },
   "outputs": [
    {
     "data": {
      "text/plain": [
       "<matplotlib.axes._subplots.AxesSubplot at 0x107f2dcc0>"
      ]
     },
     "execution_count": 3,
     "metadata": {},
     "output_type": "execute_result"
    },
    {
     "data": {
      "image/png": "[encoded data removed]",
      "text/plain": [
       "<matplotlib.figure.Figure at 0x10c333ac8>"
      ]
     },
     "metadata": {},
     "output_type": "display_data"
    }
   ],
   "source": [
    "pd.Series(graph.costs).plot.hist(bins=100)"
   ]
  },
  {
   "cell_type": "code",
   "execution_count": 4,
   "metadata": {
    "collapsed": false
   },
   "outputs": [
    {
     "data": {
      "text/plain": [
       "array([ 0.583,  0.845,  0.856, ...,  0.806,  0.603,  0.844])"
      ]
     },
     "execution_count": 4,
     "metadata": {},
     "output_type": "execute_result"
    }
   ],
   "source": [
    "graph.costs"
   ]
  },
  {
   "cell_type": "code",
   "execution_count": 5,
   "metadata": {
    "collapsed": false
   },
   "outputs": [
    {
     "data": {
      "text/plain": [
       "0.0"
      ]
     },
     "execution_count": 5,
     "metadata": {},
     "output_type": "execute_result"
    }
   ],
   "source": [
    "graph.costs.min()"
   ]
  },
  {
   "cell_type": "code",
   "execution_count": 6,
   "metadata": {
    "collapsed": false
   },
   "outputs": [
    {
     "data": {
      "text/plain": [
       "0.85999999999999999"
      ]
     },
     "execution_count": 6,
     "metadata": {},
     "output_type": "execute_result"
    }
   ],
   "source": [
    "graph.costs.max()"
   ]
  },
  {
   "cell_type": "code",
   "execution_count": 7,
   "metadata": {
    "collapsed": false,
    "deletable": true,
    "editable": true
   },
   "outputs": [
    {
     "data": {
      "image/png": "[encoded data removed]",
      "text/plain": [
       "<matplotlib.figure.Figure at 0x109d03cc0>"
      ]
     },
     "metadata": {},
     "output_type": "display_data"
    }
   ],
   "source": [
    "# pd.Series([deg for deg in graph.node_degrees if deg > 100]).plot.hist(bins=100)\n",
    "fig, ax = plt.subplots()\n",
    "pd.Series([deg for deg in graph.node_degrees if deg > 100]).hist(ax=ax, bins=100, bottom=0.1)\n",
    "ax.set_yscale('log')"
   ]
  },
  {
   "cell_type": "code",
   "execution_count": 8,
   "metadata": {
    "collapsed": false,
    "deletable": true,
    "editable": true
   },
   "outputs": [
    {
     "ename": "AttributeError",
     "evalue": "'Graph' object has no attribute 'edge_penalties'",
     "output_type": "error",
     "traceback": [
      "\u001b[0;31m---------------------------------------------------------------------------\u001b[0m",
      "\u001b[0;31mAttributeError\u001b[0m                            Traceback (most recent call last)",
      "\u001b[0;32m<ipython-input-8-bda1c5f4a975>\u001b[0m in \u001b[0;36m<module>\u001b[0;34m()\u001b[0m\n\u001b[1;32m      1\u001b[0m \u001b[0mfig\u001b[0m\u001b[0;34m,\u001b[0m \u001b[0max\u001b[0m \u001b[0;34m=\u001b[0m \u001b[0mplt\u001b[0m\u001b[0;34m.\u001b[0m\u001b[0msubplots\u001b[0m\u001b[0;34m(\u001b[0m\u001b[0;34m)\u001b[0m\u001b[0;34m\u001b[0m\u001b[0m\n\u001b[0;32m----> 2\u001b[0;31m \u001b[0mpd\u001b[0m\u001b[0;34m.\u001b[0m\u001b[0mSeries\u001b[0m\u001b[0;34m(\u001b[0m\u001b[0mgraph\u001b[0m\u001b[0;34m.\u001b[0m\u001b[0medge_penalties\u001b[0m\u001b[0;34m)\u001b[0m\u001b[0;34m.\u001b[0m\u001b[0mhist\u001b[0m\u001b[0;34m(\u001b[0m\u001b[0max\u001b[0m\u001b[0;34m=\u001b[0m\u001b[0max\u001b[0m\u001b[0;34m,\u001b[0m \u001b[0mbins\u001b[0m\u001b[0;34m=\u001b[0m\u001b[0;36m100\u001b[0m\u001b[0;34m,\u001b[0m \u001b[0mbottom\u001b[0m\u001b[0;34m=\u001b[0m\u001b[0;36m0.1\u001b[0m\u001b[0;34m)\u001b[0m\u001b[0;34m\u001b[0m\u001b[0m\n\u001b[0m\u001b[1;32m      3\u001b[0m \u001b[0max\u001b[0m\u001b[0;34m.\u001b[0m\u001b[0mset_yscale\u001b[0m\u001b[0;34m(\u001b[0m\u001b[0;34m'log'\u001b[0m\u001b[0;34m)\u001b[0m\u001b[0;34m\u001b[0m\u001b[0m\n",
      "\u001b[0;31mAttributeError\u001b[0m: 'Graph' object has no attribute 'edge_penalties'"
     ]
    },
    {
     "data": {
      "image/png": "[encoded data removed]",
      "text/plain": [
       "<matplotlib.figure.Figure at 0x10a23ccc0>"
      ]
     },
     "metadata": {},
     "output_type": "display_data"
    }
   ],
   "source": [
    "fig, ax = plt.subplots()\n",
    "pd.Series(graph.edge_penalties).hist(ax=ax, bins=100, bottom=0.1)\n",
    "ax.set_yscale('log')"
   ]
  },
  {
   "cell_type": "code",
   "execution_count": null,
   "metadata": {
    "collapsed": true,
    "deletable": true,
    "editable": true
   },
   "outputs": [],
   "source": []
  },
  {
   "cell_type": "code",
   "execution_count": 2,
   "metadata": {
    "collapsed": false,
    "deletable": true,
    "editable": true,
    "scrolled": true
   },
   "outputs": [
    {
     "data": {
      "text/plain": [
       "[446,\n",
       " 1209,\n",
       " 1364,\n",
       " 1445,\n",
       " 1645,\n",
       " 2003,\n",
       " 2022,\n",
       " 2149,\n",
       " 2252,\n",
       " 2332,\n",
       " 2333,\n",
       " 2367,\n",
       " 2394,\n",
       " 2485,\n",
       " 2486,\n",
       " 2496,\n",
       " 2503,\n",
       " 2632,\n",
       " 2731,\n",
       " 2832,\n",
       " 2836,\n",
       " 2972,\n",
       " 3185,\n",
       " 3293,\n",
       " 3464,\n",
       " 3607,\n",
       " 3633,\n",
       " 3764,\n",
       " 3856,\n",
       " 4001,\n",
       " 4351,\n",
       " 4416,\n",
       " 4865,\n",
       " 5056,\n",
       " 5078,\n",
       " 5091,\n",
       " 5544,\n",
       " 6177,\n",
       " 6464,\n",
       " 6467,\n",
       " 6583,\n",
       " 9559,\n",
       " 9766,\n",
       " 10515,\n",
       " 10789,\n",
       " 11823,\n",
       " 12463,\n",
       " 12499,\n",
       " 12505,\n",
       " 12745,\n",
       " 12748]"
      ]
     },
     "execution_count": 2,
     "metadata": {},
     "output_type": "execute_result"
    }
   ],
   "source": [
    "terminals"
   ]
  },
  {
   "cell_type": "code",
   "execution_count": null,
   "metadata": {
    "collapsed": false,
    "deletable": true,
    "editable": true
   },
   "outputs": [],
   "source": [
    "vertices, edges = graph.pcsf(prizes)"
   ]
  },
  {
   "cell_type": "code",
   "execution_count": 11,
   "metadata": {
    "collapsed": false,
    "deletable": true,
    "editable": true,
    "scrolled": true
   },
   "outputs": [
    {
     "data": {
      "text/plain": [
       "array([    9,   114,   383,   430,   446,   470,   493,   507,   620,\n",
       "         646,   699,   737,   756,   762,   767,   801,   836,   842,\n",
       "         979,  1007,  1009,  1064,  1088,  1172,  1197,  1209,  1223,\n",
       "        1305,  1364,  1386,  1415,  1443,  1445,  1448,  1462,  1509,\n",
       "        1645,  1723,  1818,  1848,  1849,  1867,  2003,  2022,  2063,\n",
       "        2064,  2101,  2149,  2153,  2172,  2184,  2195,  2252,  2254,\n",
       "        2256,  2280,  2300,  2319,  2330,  2331,  2332,  2333,  2345,\n",
       "        2367,  2371,  2374,  2394,  2430,  2437,  2452,  2485,  2486,\n",
       "        2494,  2496,  2503,  2523,  2552,  2632,  2633,  2690,  2691,\n",
       "        2695,  2697,  2698,  2731,  2738,  2754,  2758,  2763,  2764,\n",
       "        2794,  2832,  2836,  2862,  2863,  2867,  2874,  2968,  2972,\n",
       "        3016,  3020,  3023,  3049,  3084,  3091,  3094,  3097,  3140,\n",
       "        3145,  3158,  3166,  3185,  3188,  3230,  3240,  3244,  3280,\n",
       "        3293,  3309,  3314,  3318,  3320,  3324,  3366,  3373,  3409,\n",
       "        3446,  3464,  3467,  3564,  3565,  3607,  3633,  3639,  3655,\n",
       "        3681,  3682,  3683,  3723,  3758,  3764,  3767,  3774,  3834,\n",
       "        3843,  3856,  3857,  3862,  3868,  3874,  3907,  3918,  3919,\n",
       "        3928,  3946,  3961,  3971,  3982,  3983,  3990,  3992,  3993,\n",
       "        3997,  4001,  4013,  4019,  4040,  4041,  4078,  4103,  4104,\n",
       "        4119,  4136,  4137,  4157,  4163,  4186,  4187,  4213,  4246,\n",
       "        4249,  4276,  4283,  4351,  4374,  4382,  4383,  4398,  4408,\n",
       "        4415,  4434,  4437,  4450,  4453,  4495,  4500,  4506,  4507,\n",
       "        4519,  4547,  4555,  4597,  4601,  4610,  4615,  4645,  4646,\n",
       "        4663,  4672,  4679,  4692,  4695,  4702,  4706,  4708,  4714,\n",
       "        4716,  4732,  4734,  4735,  4752,  4771,  4804,  4841,  4865,\n",
       "        4898,  4944,  4962,  4968,  4969,  4971,  4979,  4982,  4994,\n",
       "        4997,  4998,  4999,  5016,  5023,  5032,  5040,  5048,  5056,\n",
       "        5059,  5065,  5077,  5078,  5079,  5087,  5088,  5091,  5095,\n",
       "        5112,  5113,  5127,  5129,  5132,  5136,  5140,  5144,  5150,\n",
       "        5152,  5159,  5165,  5172,  5184,  5192,  5197,  5203,  5223,\n",
       "        5289,  5294,  5309,  5313,  5316,  5319,  5321,  5351,  5358,\n",
       "        5365,  5366,  5370,  5372,  5380,  5398,  5415,  5417,  5431,\n",
       "        5436,  5483,  5485,  5486,  5500,  5501,  5525,  5533,  5544,\n",
       "        5552,  5579,  5589,  5604,  5612,  5616,  5617,  5637,  5659,\n",
       "        5660,  5675,  5681,  5700,  5707,  5720,  5721,  5724,  5742,\n",
       "        5783,  5784,  5809,  5810,  5820,  5825,  5831,  5841,  5857,\n",
       "        5859,  5861,  5870,  5876,  5879,  5881,  5887,  5896,  5898,\n",
       "        5899,  5916,  5923,  5935,  5938,  5953,  5955,  5958,  5963,\n",
       "        5981,  5984,  5985,  5987,  5988,  5997,  6012,  6019,  6037,\n",
       "        6042,  6048,  6052,  6056,  6058,  6059,  6061,  6065,  6085,\n",
       "        6089,  6114,  6124,  6131,  6132,  6139,  6149,  6170,  6172,\n",
       "        6177,  6178,  6196,  6224,  6232,  6258,  6259,  6260,  6278,\n",
       "        6302,  6323,  6329,  6375,  6376,  6377,  6381,  6397,  6411,\n",
       "        6412,  6413,  6414,  6432,  6436,  6441,  6449,  6451,  6453,\n",
       "        6454,  6462,  6463,  6464,  6465,  6466,  6467,  6469,  6474,\n",
       "        6483,  6488,  6494,  6501,  6507,  6515,  6517,  6529,  6550,\n",
       "        6572,  6577,  6583,  6585,  6608,  6614,  6632,  6647,  6752,\n",
       "        6831,  6865,  6918,  6930,  6935,  6957,  7099,  7162,  7238,\n",
       "        7281,  7288,  7340,  7344,  7347,  7375,  7543,  7553,  7763,\n",
       "        7765,  7873,  7882,  7906,  7907,  7908,  7963,  7978,  8027,\n",
       "        8060,  8127,  8135,  8177,  8186,  8200,  8221,  8312,  8322,\n",
       "        8342,  8362,  8421,  8515,  8537,  8541,  8560,  8575,  8579,\n",
       "        8599,  8705,  8723,  8743,  8745,  8769,  8790,  8869,  8989,\n",
       "        8999,  9096,  9142,  9157,  9217,  9221,  9245,  9393,  9404,\n",
       "        9412,  9435,  9460,  9476,  9520,  9524,  9559,  9579,  9589,\n",
       "        9631,  9633,  9638,  9670,  9683,  9688,  9698,  9702,  9717,\n",
       "        9733,  9740,  9743,  9748,  9752,  9756,  9764,  9765,  9766,\n",
       "        9768,  9771,  9780,  9791,  9801,  9809,  9811,  9812,  9827,\n",
       "        9829,  9834,  9835,  9838,  9867,  9898,  9921,  9938,  9940,\n",
       "        9956,  9989, 10006, 10025, 10051, 10058, 10059, 10086, 10090,\n",
       "       10110, 10120, 10123, 10139, 10147, 10154, 10160, 10161, 10172,\n",
       "       10180, 10193, 10214, 10215, 10217, 10246, 10254, 10269, 10275,\n",
       "       10288, 10308, 10309, 10334, 10378, 10389, 10398, 10402, 10498,\n",
       "       10508, 10513, 10515, 10535, 10592, 10619, 10629, 10630, 10637,\n",
       "       10645, 10668, 10675, 10687, 10703, 10706, 10711, 10734, 10740,\n",
       "       10744, 10745, 10746, 10751, 10766, 10767, 10768, 10774, 10777,\n",
       "       10781, 10783, 10787, 10833, 10883, 10911, 10933, 10958, 10972,\n",
       "       10978, 10986, 10987, 10996, 11002, 11004, 11010, 11012, 11013,\n",
       "       11019, 11020, 11032, 11034, 11037, 11046, 11058, 11060, 11072,\n",
       "       11076, 11078, 11083, 11105, 11113, 11114, 11144, 11156, 11187,\n",
       "       11198, 11201, 11202, 11208, 11228, 11240, 11243, 11252, 11269,\n",
       "       11277, 11279, 11296, 11299, 11321, 11333, 11347, 11365, 11381,\n",
       "       11385, 11388, 11393, 11420, 11430, 11436, 11471, 11480, 11504,\n",
       "       11513, 11518, 11527, 11641, 11647, 11654, 11687, 11691, 11697,\n",
       "       11703, 11721, 11729, 11733, 11751, 11755, 11774, 11775, 11792,\n",
       "       11796, 11806, 11810, 11813, 11823, 11826, 11829, 11832, 11837,\n",
       "       11844, 11877, 11887, 11894, 11915, 11920, 11937, 11961, 11975,\n",
       "       11976, 11978, 11980, 11981, 11984, 11989, 11997, 12002, 12010,\n",
       "       12014, 12019, 12024, 12072, 12080, 12091, 12109, 12111, 12112,\n",
       "       12113, 12119, 12123, 12126, 12159, 12180, 12199, 12201, 12202,\n",
       "       12223, 12235, 12247, 12253, 12254, 12274, 12285, 12319, 12336,\n",
       "       12344, 12354, 12372, 12390, 12392, 12401, 12405, 12408, 12411,\n",
       "       12412, 12418, 12419, 12422, 12430, 12441, 12445, 12446, 12447,\n",
       "       12450, 12459, 12463, 12466, 12467, 12469, 12474, 12481, 12496,\n",
       "       12499, 12505, 12506, 12509, 12526, 12544, 12559, 12562, 12568,\n",
       "       12571, 12573, 12574, 12577, 12580, 12590, 12591, 12594, 12600,\n",
       "       12608, 12613, 12619, 12620, 12621, 12625, 12626, 12632, 12635,\n",
       "       12646, 12652, 12658, 12659, 12661, 12667, 12679, 12683, 12684,\n",
       "       12688, 12689, 12698, 12701, 12706, 12712, 12723, 12731, 12732,\n",
       "       12734, 12735, 12740, 12743, 12745, 12748, 12752, 12765, 12766,\n",
       "       12772, 12775, 12778, 12779, 12784, 12785, 12795, 12797, 12803,\n",
       "       12807, 12813, 12823, 12825, 12828, 12838, 12842, 12843, 12850,\n",
       "       12852, 12853, 12857, 12859, 12861, 12865, 12870, 12876, 12879,\n",
       "       12889, 12892, 12893, 12895, 12897, 12898, 12910, 12911, 12935,\n",
       "       12957, 12964, 12970, 12973, 12997, 13001, 13009, 13010, 13025,\n",
       "       13043, 13045, 13046, 13050, 13054, 13079, 13091, 13099, 13117,\n",
       "       13131, 13139, 13142, 13155, 13169, 13185, 13186, 13197, 13211,\n",
       "       13218, 13220, 13244, 13252, 13308, 13322, 13324, 13331, 13407,\n",
       "       13429, 13447, 13470, 13482, 13503, 13507, 13512, 13515, 13524,\n",
       "       13531, 13554, 13556, 13638, 13648, 13672, 13677, 13730, 13774,\n",
       "       13857, 13955, 14000, 14136, 14295, 14321, 14467, 14663, 14665,\n",
       "       15436, 15468, 15539, 16371], dtype=int32)"
      ]
     },
     "execution_count": 11,
     "metadata": {},
     "output_type": "execute_result"
    }
   ],
   "source": [
    "vertices"
   ]
  },
  {
   "cell_type": "code",
   "execution_count": 12,
   "metadata": {
    "collapsed": false,
    "deletable": true,
    "editable": true
   },
   "outputs": [
    {
     "data": {
      "text/plain": [
       "array([ 28696,  32290,  35294,  39680,  48994,  50496,  54563,  58977,\n",
       "        67175,  67227,  69858,  73727,  73780,  74161,  74368,  77358,\n",
       "        88585,  92081,  96142, 102871, 106168,   8333,  78106, 124617,\n",
       "       129828, 140927, 153521, 161041, 162146, 176449, 190807,  82304,\n",
       "        83013, 177558,  84847, 108817, 240223, 159217,  84777, 230658,\n",
       "       239590, 239546,  85331, 165385, 119494, 232992, 185382, 192190,\n",
       "       240456,  91694,  96116, 172421, 229725, 124839, 186499,  79041,\n",
       "        86860, 159783, 199265,  67174,  68651, 240206, 235089,  85435,\n",
       "       184030, 237892, 239209,   8334, 124858, 239816,  86871, 227486,\n",
       "       199268, 166111, 119472, 240209, 186174,  89612, 225311, 240268,\n",
       "       129693, 239817, 199989, 230646, 240273, 175373, 185373, 186187,\n",
       "        91686, 135957,  89685, 225312, 186479, 189490, 176413, 189154,\n",
       "       199984, 177530,  93679, 231491, 175083, 159586, 195302, 122334,\n",
       "        88894, 183351, 189492, 167033,  84854, 158761,  74134, 196233,\n",
       "        86870, 226783,  88967, 183356, 167073,  82757,  41281, 195294,\n",
       "       229499,  53508, 108783, 164430, 237807,  80209,  77516,  41278,\n",
       "       229496,  53507, 240184, 206786, 124857, 117864,  43783,  84146,\n",
       "       187509, 239437,  96060, 235159,  80725, 139612, 187516, 239440,\n",
       "       134437, 192870, 192149, 240138, 224290, 234149, 192880, 158764,\n",
       "       234152, 181737,  55966, 239370,  55976, 239886, 226739, 170872,\n",
       "       181728, 170865, 153877, 233001, 153878, 233305,  83420, 233307,\n",
       "       149088, 149090, 240168, 238247, 238243, 230311, 230317, 194366,\n",
       "       194369, 239120, 206746, 206742, 234525, 233127, 190543, 190554,\n",
       "       226617, 190492, 190484, 226624, 236729,  84584, 157181, 157170,\n",
       "       196704, 227841, 227844,  61548,  61527, 237384, 223080, 223078,\n",
       "       236435, 238494, 235348, 225873, 225894, 178788, 178755, 201348,\n",
       "       210937, 210958, 239237, 239235, 194840, 194842, 191841, 191831,\n",
       "       220077, 220078, 210634, 210655, 231322, 231263, 231271, 184148,\n",
       "       184153, 186127, 186123, 233291, 125786, 125820, 236958, 158388,\n",
       "       158400, 240015, 237033, 233352,  22828,  22825, 223066, 195190,\n",
       "       195181, 215310, 215318, 129127, 129092, 177753, 177759, 177725,\n",
       "       177728,  87266,  87261, 227554, 227555, 233313, 233326, 224856,\n",
       "       224804, 237933, 237938, 239420, 239299, 116742, 116759, 239307,\n",
       "       191381, 191383, 231383, 231382, 211623, 142729, 142932, 240290,\n",
       "       237239, 149803, 149788, 170639, 239744, 239182, 230273, 230281,\n",
       "       186416, 186430, 224194, 224185,  17675,  17650, 231592, 232868,\n",
       "       127621, 127616, 173141, 110887, 110895, 182183, 178742, 177586,\n",
       "       177623, 179538, 179608, 231083,  72576,  72561, 161480, 161613,\n",
       "       216250, 203003, 203009, 217718, 217723, 181394, 181401, 168730,\n",
       "       168729, 233765,   7571,   7575, 234873, 233948, 227266, 185580,\n",
       "       185596, 182080, 182059, 200081, 200135, 231758, 124258, 124168,\n",
       "       171701, 239793,  23600,  23601, 229534, 179797, 179801, 164940,\n",
       "       164926, 170914,  54710,  54715, 169364, 169362,  35355,  35345,\n",
       "        64128, 137304, 137252, 141550, 141655, 188472, 188481, 236908,\n",
       "       221881, 221879, 208526, 208525, 156415, 156449, 158627, 158625,\n",
       "       170489, 170484, 189960, 189971, 225013, 231634, 236461, 184614,\n",
       "       184595, 157006, 157057, 167500, 167486, 228542, 228543, 228869,\n",
       "       128114, 128137, 235558, 234079, 234077, 232905, 232907, 226394,\n",
       "       217587, 217593, 236602, 179740, 179738, 219299,  17320,  17322,\n",
       "       216295, 144228, 144234, 184948, 184949, 144104, 144102,  68882,\n",
       "        68863, 116769, 130446, 190122, 212707, 212770, 237713, 239913,\n",
       "       166459, 166451, 202840, 202828, 199772, 142201, 142249, 237876,\n",
       "       189140, 189135,   6216,   6219, 234107, 153291, 153288, 231093,\n",
       "       239268, 190644, 168590, 156054, 156081,  90650,  90672, 239475,\n",
       "       229064, 229060,    956,    961, 236971, 239952, 239931, 197718,\n",
       "       197667, 225023, 218493, 186721, 186894, 223559, 223554, 176964,\n",
       "       176958, 224433, 237915, 227349, 227356, 240190, 236636, 201140,\n",
       "       201143, 182327, 182305, 183087, 230770, 219863, 219861, 169056,\n",
       "       169049, 177101, 177119, 217875, 209955, 175028, 175037, 145225,\n",
       "       145230, 162447, 162444, 238211, 238130, 217455, 217457, 207106,\n",
       "       207097, 216094, 216099, 163773, 163760, 196540, 240341, 238259,\n",
       "       238225, 235135, 235136, 239897, 232971, 222101, 104522, 104524,\n",
       "       210741, 189076, 145055, 145057, 195928, 195920, 195891, 195896,\n",
       "       199737, 199741, 107680, 107897,  98135,  98155, 236306, 236251,\n",
       "       227464, 227466, 212044, 212043, 146492, 146479, 215988,  16745,\n",
       "        16723, 128799, 232871, 227196, 227198, 222225, 222216, 179948,\n",
       "       179946, 220224, 152156, 152160,  44457,  44454, 195140, 233241,\n",
       "       233243, 239205, 149393, 149392, 183178, 183182, 239461, 233099,\n",
       "       198515, 198511, 214812, 150921, 150927, 238668, 234884, 209998,\n",
       "       139061, 139046,  98195,  98184, 118552, 162761, 145481, 145547,\n",
       "       145440, 145390, 180392, 193178, 183600, 183624, 239784, 239754,\n",
       "       239751, 181771, 181767, 232519, 226968, 154348, 147421, 147434,\n",
       "       203751, 119621, 119683, 206819, 194463, 119714, 119719, 203482,\n",
       "        17763,  17752, 170946, 197928,  64790,  64787, 147582, 147549,\n",
       "       225754, 225765, 227851,  92923,  92940,  99516,  99510,   4740,\n",
       "         4746, 135369, 135350, 157152, 224078, 157096, 155864, 156027,\n",
       "       166675, 166660, 237504, 233084, 145947, 145953, 104815, 104800,\n",
       "       156499, 156505, 211808, 162461, 162464, 220791, 225975, 216532,\n",
       "        89309,  52868,  52937,  53007,  52947,  87121, 176162, 160263,\n",
       "       160370, 122027, 121930, 223537, 143710, 143692, 182538, 239495,\n",
       "        23549,  23553, 234225, 185338,  66055,  66595, 127194, 127155,\n",
       "       101807, 101837, 121442, 121428, 118928, 118900,  35808,  35807,\n",
       "       173234, 173245, 237756,  26095,  26083, 141872, 141865, 210967,\n",
       "       141902, 141892,  30484,  25064,  25235, 222470, 232592, 238077,\n",
       "       150323, 150339, 111728, 111716, 162186, 162195, 236107, 222864,\n",
       "       221793, 200519, 162069, 162086, 233023, 227002, 223694, 223693,\n",
       "        19205,  19199, 215754, 215751, 183579, 183570, 195553, 127082,\n",
       "       127047, 195213, 212312, 212296, 134476, 134472, 198044, 239226,\n",
       "       239998, 239999, 238446, 238435, 233464, 232932, 228285, 208619,\n",
       "       195846, 112091, 112097,    183,    120,  33754, 128856, 196192,\n",
       "       214571, 139792, 139790,  99713,  99666, 174218, 136667, 136662,\n",
       "       136629, 136641, 109978, 109964, 101463, 101400, 127326,  11309,\n",
       "        11308,  71050,  71584, 143913, 143917, 235396,  15159,  15153,\n",
       "       167998, 168004, 180035, 132581, 132711,  56623,  56787, 125347,\n",
       "       125307, 172702, 223406, 227094, 185353, 149722, 149746, 150401,\n",
       "       136140, 129243, 129461, 191613, 168472, 146719, 146803, 221735,\n",
       "       131442,  36996,  37029, 224877, 135023, 134997, 172520,  98259,\n",
       "        89407,  89405,  89558,  89598, 108682, 108670, 109663, 108584,\n",
       "       108587,  74820,  74812, 123650, 148636, 150816, 148671, 148672,\n",
       "       150820, 150806, 105716, 105743, 223893,  18994,  18999, 175063,\n",
       "       108548, 108542, 163753, 236513, 236511,  98989,  98983, 161128,\n",
       "       161169, 183255, 183271,  99801,  99781, 138833, 155395, 155314,\n",
       "       164287, 189191, 131317, 131321,  28477,  28492,  67412,  67394,\n",
       "        72042,  72054,  60138,  59050,  75417, 104936, 104948, 217338,\n",
       "       217355, 238949, 205898,  32870,  32867,  18195,  18182,  29023,\n",
       "       143079, 143081, 149637,  13453,  13415,  44469, 179975, 128574,\n",
       "       128565, 189062,  86937,  86974,  93397,  93386, 193380,  34997,\n",
       "        34949, 179242, 179285, 236067, 234851, 181433, 103072, 103095,\n",
       "        99857,  99849, 196162, 196149,  44773,  44764, 148081, 148105,\n",
       "       120737, 120733, 222792, 215949, 101591, 101582, 147974, 236576,\n",
       "        27959,  27920, 126025, 171872, 178239, 213295, 220588, 188916,\n",
       "       188755, 188765, 129193, 129176, 188994,   8028,   8010, 130533,\n",
       "       175863, 175869,  67147,  67127,  67056,  67058,  69508,  69495,\n",
       "        87282,  74012,  55034, 109658,   7004,  55467,  84121, 240536], dtype=int32)"
      ]
     },
     "execution_count": 12,
     "metadata": {},
     "output_type": "execute_result"
    }
   ],
   "source": [
    "edges"
   ]
  },
  {
   "cell_type": "code",
   "execution_count": 13,
   "metadata": {
    "collapsed": false,
    "deletable": true,
    "editable": true
   },
   "outputs": [
    {
     "data": {
      "text/plain": [
       "<networkx.classes.graph.Graph at 0x119be5780>"
      ]
     },
     "execution_count": 13,
     "metadata": {},
     "output_type": "execute_result"
    }
   ],
   "source": [
    "forest, augmented_forest = graph.output_forest_as_networkx(vertices, edges)\n",
    "forest"
   ]
  },
  {
   "cell_type": "code",
   "execution_count": 15,
   "metadata": {
    "collapsed": false,
    "deletable": true,
    "editable": true
   },
   "outputs": [
    {
     "name": "stderr",
     "output_type": "stream",
     "text": [
      "/Users/alex/Documents/OmicsIntegrator2/venv/lib/python3.6/site-packages/networkx/drawing/nx_pylab.py:126: MatplotlibDeprecationWarning: pyplot.hold is deprecated.\n",
      "    Future behavior will be consistent with the long-time default:\n",
      "    plot commands add elements without first clearing the\n",
      "    Axes and/or Figure.\n",
      "  b = plt.ishold()\n",
      "/Users/alex/Documents/OmicsIntegrator2/venv/lib/python3.6/site-packages/networkx/drawing/nx_pylab.py:138: MatplotlibDeprecationWarning: pyplot.hold is deprecated.\n",
      "    Future behavior will be consistent with the long-time default:\n",
      "    plot commands add elements without first clearing the\n",
      "    Axes and/or Figure.\n",
      "  plt.hold(b)\n",
      "/Users/alex/Documents/OmicsIntegrator2/venv/lib/python3.6/site-packages/matplotlib/__init__.py:917: UserWarning: axes.hold is deprecated. Please remove it from your matplotlibrc and/or style files.\n",
      "  warnings.warn(self.msg_depr_set % key)\n",
      "/Users/alex/Documents/OmicsIntegrator2/venv/lib/python3.6/site-packages/matplotlib/rcsetup.py:152: UserWarning: axes.hold is deprecated, will be removed in 3.0\n",
      "  warnings.warn(\"axes.hold is deprecated, will be removed in 3.0\")\n"
     ]
    },
    {
     "data": {
      "image/png": "[encoded data removed]",
      "text/plain": [
       "<matplotlib.figure.Figure at 0x10b396d68>"
      ]
     },
     "metadata": {},
     "output_type": "display_data"
    }
   ],
   "source": [
    "nx.draw_spectral(forest)"
   ]
  },
  {
   "cell_type": "code",
   "execution_count": null,
   "metadata": {
    "collapsed": true,
    "deletable": true,
    "editable": true
   },
   "outputs": [],
   "source": []
  }
 ],
 "metadata": {
  "kernelspec": {
   "display_name": "Python 3",
   "language": "python",
   "name": "python3"
  },
  "language_info": {
   "codemirror_mode": {
    "name": "ipython",
    "version": 3
   },
   "file_extension": ".py",
   "mimetype": "text/x-python",
   "name": "python",
   "nbconvert_exporter": "python",
   "pygments_lexer": "ipython3",
   "version": "3.6.0"
  }
 },
 "nbformat": 4,
 "nbformat_minor": 2
}
